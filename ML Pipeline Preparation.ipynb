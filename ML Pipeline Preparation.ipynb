{
 "cells": [
  {
   "cell_type": "markdown",
   "metadata": {},
   "source": [
    "# ML Pipeline Preparation\n",
    "Follow the instructions below to help you create your ML pipeline.\n",
    "### 1. Import libraries and load data from database.\n",
    "- Import Python libraries\n",
    "- Load dataset from database with [`read_sql_table`](https://pandas.pydata.org/pandas-docs/stable/generated/pandas.read_sql_table.html)\n",
    "- Define feature and target variables X and Y"
   ]
  },
  {
   "cell_type": "code",
   "execution_count": 1,
   "metadata": {},
   "outputs": [
    {
     "name": "stdout",
     "output_type": "stream",
     "text": [
      "[nltk_data] Downloading package punkt to /root/nltk_data...\n",
      "[nltk_data]   Package punkt is already up-to-date!\n",
      "[nltk_data] Downloading package wordnet to /root/nltk_data...\n",
      "[nltk_data]   Package wordnet is already up-to-date!\n",
      "[nltk_data] Downloading package averaged_perceptron_tagger to\n",
      "[nltk_data]     /root/nltk_data...\n",
      "[nltk_data]   Package averaged_perceptron_tagger is already up-to-\n",
      "[nltk_data]       date!\n"
     ]
    }
   ],
   "source": [
    "import nltk\n",
    "nltk.download(['punkt', 'wordnet', 'averaged_perceptron_tagger'])\n",
    "\n",
    "import re\n",
    "# import libraries\n",
    "import pandas as pd\n",
    "import numpy as np\n",
    "\n",
    "from nltk.tokenize import word_tokenize\n",
    "from nltk.stem import WordNetLemmatizer\n",
    "\n",
    "from sqlalchemy import create_engine\n",
    "from sklearn.multioutput import MultiOutputClassifier\n",
    "from sklearn.ensemble import RandomForestClassifier\n",
    "from sklearn.model_selection import train_test_split\n",
    "\n",
    "from sklearn.pipeline import Pipeline, FeatureUnion\n",
    "from sklearn.metrics import classification_report\n",
    "from sklearn.feature_extraction.text import CountVectorizer, TfidfTransformer\n",
    "\n",
    "url_regex = 'http[s]?://(?:[a-zA-Z]|[0-9]|[$-_@.&+]|[!*\\(\\),]|(?:%[0-9a-fA-F][0-9a-fA-F]))+'"
   ]
  },
  {
   "cell_type": "code",
   "execution_count": 2,
   "metadata": {},
   "outputs": [],
   "source": [
    "# load data from database\n",
    "engine = create_engine('sqlite:///InsertDatabaseName.db')\n",
    "df = pd.read_sql_table('InsertTableName', engine)\n",
    "\n",
    "remove_indx = np.array([])\n",
    "# Removing messages that contain only spaces!\n",
    "_,indeces = np.unique(df.message.values,return_inverse=True)\n",
    "indeces_of_the_empty_messages = np.where((indeces==0)|(indeces==1)|(indeces==2))[0]\n",
    "remove_indx = np.append(remove_indx,indeces_of_the_empty_messages)\n",
    "\n",
    "# Removing nan catogries\n",
    "for col_ind in range(4,40):\n",
    "    remove_indx = np.append(remove_indx,df[df[df.columns[col_ind]].isna()].index.values)\n",
    "\n",
    "df.drop(np.unique(remove_indx), inplace=True)\n",
    "\n",
    "X = df.message.values\n",
    "Y = df[df.columns[4:]].values\n",
    "# print(df.columns[4:])\n",
    "# print(np.unique(X))\n",
    "# print(np.unique(Y))"
   ]
  },
  {
   "cell_type": "code",
   "execution_count": 58,
   "metadata": {},
   "outputs": [],
   "source": [
    "remove_indx = np.array([])\n",
    "for col_ind in range(4,40):\n",
    "    remove_indx = np.append(remove_indx,df[df[df.columns[col_ind]].isna()].index.values)\n",
    "    \n"
   ]
  },
  {
   "cell_type": "code",
   "execution_count": 64,
   "metadata": {},
   "outputs": [
    {
     "name": "stdout",
     "output_type": "stream",
     "text": [
      "[ 12265.  12269.  12302. ...,  26342.  26343.  26344.]\n"
     ]
    }
   ],
   "source": [
    "remove_indx = np.array([])\n",
    "# Removing messages that contain only spaces!\n",
    "_,indeces = np.unique(df.message.values,return_inverse=True)\n",
    "indeces_of_the_empty_messages = np.where((indeces==0)|(indeces==1)|(indeces==2))[0]\n",
    "remove_indx = np.append(remove_indx,indeces_of_the_empty_messages)\n",
    "\n",
    "# Removing nan catogries\n",
    "for col_ind in range(4,40):\n",
    "    remove_indx = np.append(remove_indx,df[df[df.columns[col_ind]].isna()].index.values)\n",
    "print(remove_indx)"
   ]
  },
  {
   "cell_type": "code",
   "execution_count": 61,
   "metadata": {},
   "outputs": [
    {
     "data": {
      "text/plain": [
       "array([12265, 12269, 12302])"
      ]
     },
     "execution_count": 61,
     "metadata": {},
     "output_type": "execute_result"
    }
   ],
   "source": []
  },
  {
   "cell_type": "code",
   "execution_count": 59,
   "metadata": {},
   "outputs": [
    {
     "data": {
      "text/plain": [
       "array([ 26207.,  26208.,  26209., ...,  26342.,  26343.,  26344.])"
      ]
     },
     "execution_count": 59,
     "metadata": {},
     "output_type": "execute_result"
    }
   ],
   "source": [
    "chart.drop(np.unique(chart_drop_indeces), inplace=True)"
   ]
  },
  {
   "cell_type": "code",
   "execution_count": 3,
   "metadata": {},
   "outputs": [
    {
     "name": "stdout",
     "output_type": "stream",
     "text": [
      "[ 0.  1.  2.]\n",
      "[ 0.  1.]\n",
      "[ 0.  1.]\n",
      "[ 0.  1.]\n",
      "[ 0.  1.]\n",
      "[ 0.  1.]\n",
      "[ 0.  1.]\n",
      "[ 0.  1.]\n",
      "[ 0.  1.]\n",
      "[ 0.]\n",
      "[ 0.  1.]\n",
      "[ 0.  1.]\n",
      "[ 0.  1.]\n",
      "[ 0.  1.]\n",
      "[ 0.  1.]\n",
      "[ 0.  1.]\n",
      "[ 0.  1.]\n",
      "[ 0.  1.]\n",
      "[ 0.  1.]\n",
      "[ 0.  1.]\n",
      "[ 0.  1.]\n",
      "[ 0.  1.]\n",
      "[ 0.  1.]\n",
      "[ 0.  1.]\n",
      "[ 0.  1.]\n",
      "[ 0.  1.]\n",
      "[ 0.  1.]\n",
      "[ 0.  1.]\n",
      "[ 0.  1.]\n",
      "[ 0.  1.]\n",
      "[ 0.  1.]\n",
      "[ 0.  1.]\n",
      "[ 0.  1.]\n",
      "[ 0.  1.]\n",
      "[ 0.  1.]\n",
      "[ 0.  1.]\n"
     ]
    }
   ],
   "source": [
    "for i in range(36):\n",
    "    kl = Y[:,i]\n",
    "    print(np.unique(kl))"
   ]
  },
  {
   "cell_type": "code",
   "execution_count": 40,
   "metadata": {},
   "outputs": [
    {
     "name": "stdout",
     "output_type": "stream",
     "text": [
      "[22370 11024 11880 ..., 14736 15948  1338]\n",
      "    \n"
     ]
    }
   ],
   "source": [
    "uniq,indeces = np.unique(X,return_inverse=True)\n",
    "print(indeces)\n",
    "print(uniq[0])\n",
    "# for ind,x in enumerate(uniq):\n",
    "#     print(ind)"
   ]
  },
  {
   "cell_type": "code",
   "execution_count": 35,
   "metadata": {},
   "outputs": [
    {
     "name": "stdout",
     "output_type": "stream",
     "text": [
      "x =      \n",
      "4\n",
      "x =                             \n",
      "27\n",
      "x =            .\n",
      "11\n"
     ]
    }
   ],
   "source": [
    "for ind,x in enumerate(np.unique(X)):\n",
    "    if ind < 3:\n",
    "        print(\"x = \",x)\n",
    "        print(len(x))"
   ]
  },
  {
   "cell_type": "code",
   "execution_count": 4,
   "metadata": {},
   "outputs": [],
   "source": [
    "import string\n",
    "def tokenize(text):\n",
    "    # find URLs\n",
    "    detected_urls = re.findall(url_regex, text)\n",
    "    # Replace the URLs with placeholder\n",
    "    for url in detected_urls:\n",
    "        text = text.replace(url, \"urlplaceholder\")\n",
    "    \n",
    "    # Remove numbers from the text\n",
    "    text = re.sub(r'\\d+', '', text)\n",
    "    \n",
    "    # Remove panctuation\n",
    "    translator = str.maketrans('', '', string.punctuation)\n",
    "    text = text.translate(translator)\n",
    "    \n",
    "    tokens = word_tokenize(text)\n",
    "    lemmatizer = WordNetLemmatizer()\n",
    "\n",
    "    clean_tokens = []\n",
    "    for tok in tokens:\n",
    "        clean_tok = lemmatizer.lemmatize(tok.lower().strip())\n",
    "        clean_tokens.append(clean_tok)\n",
    "\n",
    "    return clean_tokens"
   ]
  },
  {
   "cell_type": "code",
   "execution_count": 36,
   "metadata": {},
   "outputs": [
    {
     "name": "stdout",
     "output_type": "stream",
     "text": [
      "message =      \n",
      "tokens =  0 \n",
      "\n"
     ]
    }
   ],
   "source": [
    "for ind,message in enumerate(X):\n",
    "    if ind == 12265: \n",
    "        tokens = tokenize(message)\n",
    "        print(\"message = \",message)\n",
    "        print(\"tokens = \",len(tokens), '\\n')"
   ]
  },
  {
   "cell_type": "markdown",
   "metadata": {},
   "source": [
    "### 3. Build a machine learning pipeline\n",
    "This machine pipeline should take in the `message` column as input and output classification results on the other 36 categories in the dataset. You may find the [MultiOutputClassifier](http://scikit-learn.org/stable/modules/generated/sklearn.multioutput.MultiOutputClassifier.html) helpful for predicting multiple target variables."
   ]
  },
  {
   "cell_type": "code",
   "execution_count": 5,
   "metadata": {},
   "outputs": [],
   "source": [
    "pipeline = Pipeline([\n",
    "        ('vect', CountVectorizer(tokenizer=tokenize)),\n",
    "        ('tfidf', TfidfTransformer()),\n",
    "        ('clf', MultiOutputClassifier(RandomForestClassifier()))\n",
    "    ])"
   ]
  },
  {
   "cell_type": "markdown",
   "metadata": {},
   "source": [
    "### 4. Train pipeline\n",
    "- Split data into train and test sets\n",
    "- Train pipeline"
   ]
  },
  {
   "cell_type": "code",
   "execution_count": 6,
   "metadata": {},
   "outputs": [
    {
     "data": {
      "text/plain": [
       "Pipeline(memory=None,\n",
       "     steps=[('vect', CountVectorizer(analyzer='word', binary=False, decode_error='strict',\n",
       "        dtype=<class 'numpy.int64'>, encoding='utf-8', input='content',\n",
       "        lowercase=True, max_df=1.0, max_features=None, min_df=1,\n",
       "        ngram_range=(1, 1), preprocessor=None, stop_words=None,\n",
       "        strip...oob_score=False, random_state=None, verbose=0,\n",
       "            warm_start=False),\n",
       "           n_jobs=1))])"
      ]
     },
     "execution_count": 6,
     "metadata": {},
     "output_type": "execute_result"
    }
   ],
   "source": [
    "X_train, X_test, Y_train, Y_test = train_test_split(X, Y)\n",
    "pipeline.fit(X_train, Y_train)"
   ]
  },
  {
   "cell_type": "markdown",
   "metadata": {},
   "source": [
    "### 5. Test your model\n",
    "Report the f1 score, precision and recall for each output category of the dataset. You can do this by iterating through the columns and calling sklearn's `classification_report` on each."
   ]
  },
  {
   "cell_type": "code",
   "execution_count": 11,
   "metadata": {},
   "outputs": [
    {
     "ename": "ValueError",
     "evalue": "Unknown label type: (array([[ 0.,  0.,  0., ...,  0.,  0.,  0.],\n       [ 1.,  0.,  0., ...,  0.,  0.,  0.],\n       [ 1.,  0.,  0., ...,  0.,  0.,  0.],\n       ..., \n       [ 1.,  0.,  0., ...,  0.,  0.,  0.],\n       [ 1.,  0.,  0., ...,  0.,  1.,  0.],\n       [ 1.,  1.,  0., ...,  0.,  0.,  1.]]), array([[ 0.,  0.,  0., ...,  0.,  0.,  0.],\n       [ 1.,  0.,  0., ...,  0.,  0.,  0.],\n       [ 0.,  0.,  0., ...,  0.,  0.,  0.],\n       ..., \n       [ 1.,  0.,  0., ...,  0.,  0.,  0.],\n       [ 1.,  0.,  0., ...,  0.,  0.,  0.],\n       [ 1.,  0.,  0., ...,  0.,  0.,  0.]]))",
     "output_type": "error",
     "traceback": [
      "\u001b[0;31m---------------------------------------------------------------------------\u001b[0m",
      "\u001b[0;31mValueError\u001b[0m                                Traceback (most recent call last)",
      "\u001b[0;32m<ipython-input-11-3f083289532b>\u001b[0m in \u001b[0;36m<module>\u001b[0;34m()\u001b[0m\n\u001b[1;32m      2\u001b[0m \u001b[0;34m\u001b[0m\u001b[0m\n\u001b[1;32m      3\u001b[0m \u001b[0;32mfor\u001b[0m \u001b[0mi\u001b[0m \u001b[0;32min\u001b[0m \u001b[0mrange\u001b[0m\u001b[0;34m(\u001b[0m\u001b[0;36m36\u001b[0m\u001b[0;34m)\u001b[0m\u001b[0;34m:\u001b[0m\u001b[0;34m\u001b[0m\u001b[0m\n\u001b[0;32m----> 4\u001b[0;31m     \u001b[0mclassification_report\u001b[0m\u001b[0;34m(\u001b[0m\u001b[0mY_test\u001b[0m\u001b[0;34m,\u001b[0m \u001b[0mY_pred\u001b[0m\u001b[0;34m)\u001b[0m\u001b[0;34m\u001b[0m\u001b[0m\n\u001b[0m",
      "\u001b[0;32m/opt/conda/lib/python3.6/site-packages/sklearn/metrics/classification.py\u001b[0m in \u001b[0;36mclassification_report\u001b[0;34m(y_true, y_pred, labels, target_names, sample_weight, digits)\u001b[0m\n\u001b[1;32m   1419\u001b[0m \u001b[0;34m\u001b[0m\u001b[0m\n\u001b[1;32m   1420\u001b[0m     \u001b[0;32mif\u001b[0m \u001b[0mlabels\u001b[0m \u001b[0;32mis\u001b[0m \u001b[0;32mNone\u001b[0m\u001b[0;34m:\u001b[0m\u001b[0;34m\u001b[0m\u001b[0m\n\u001b[0;32m-> 1421\u001b[0;31m         \u001b[0mlabels\u001b[0m \u001b[0;34m=\u001b[0m \u001b[0munique_labels\u001b[0m\u001b[0;34m(\u001b[0m\u001b[0my_true\u001b[0m\u001b[0;34m,\u001b[0m \u001b[0my_pred\u001b[0m\u001b[0;34m)\u001b[0m\u001b[0;34m\u001b[0m\u001b[0m\n\u001b[0m\u001b[1;32m   1422\u001b[0m     \u001b[0;32melse\u001b[0m\u001b[0;34m:\u001b[0m\u001b[0;34m\u001b[0m\u001b[0m\n\u001b[1;32m   1423\u001b[0m         \u001b[0mlabels\u001b[0m \u001b[0;34m=\u001b[0m \u001b[0mnp\u001b[0m\u001b[0;34m.\u001b[0m\u001b[0masarray\u001b[0m\u001b[0;34m(\u001b[0m\u001b[0mlabels\u001b[0m\u001b[0;34m)\u001b[0m\u001b[0;34m\u001b[0m\u001b[0m\n",
      "\u001b[0;32m/opt/conda/lib/python3.6/site-packages/sklearn/utils/multiclass.py\u001b[0m in \u001b[0;36munique_labels\u001b[0;34m(*ys)\u001b[0m\n\u001b[1;32m     95\u001b[0m     \u001b[0m_unique_labels\u001b[0m \u001b[0;34m=\u001b[0m \u001b[0m_FN_UNIQUE_LABELS\u001b[0m\u001b[0;34m.\u001b[0m\u001b[0mget\u001b[0m\u001b[0;34m(\u001b[0m\u001b[0mlabel_type\u001b[0m\u001b[0;34m,\u001b[0m \u001b[0;32mNone\u001b[0m\u001b[0;34m)\u001b[0m\u001b[0;34m\u001b[0m\u001b[0m\n\u001b[1;32m     96\u001b[0m     \u001b[0;32mif\u001b[0m \u001b[0;32mnot\u001b[0m \u001b[0m_unique_labels\u001b[0m\u001b[0;34m:\u001b[0m\u001b[0;34m\u001b[0m\u001b[0m\n\u001b[0;32m---> 97\u001b[0;31m         \u001b[0;32mraise\u001b[0m \u001b[0mValueError\u001b[0m\u001b[0;34m(\u001b[0m\u001b[0;34m\"Unknown label type: %s\"\u001b[0m \u001b[0;34m%\u001b[0m \u001b[0mrepr\u001b[0m\u001b[0;34m(\u001b[0m\u001b[0mys\u001b[0m\u001b[0;34m)\u001b[0m\u001b[0;34m)\u001b[0m\u001b[0;34m\u001b[0m\u001b[0m\n\u001b[0m\u001b[1;32m     98\u001b[0m \u001b[0;34m\u001b[0m\u001b[0m\n\u001b[1;32m     99\u001b[0m     \u001b[0mys_labels\u001b[0m \u001b[0;34m=\u001b[0m \u001b[0mset\u001b[0m\u001b[0;34m(\u001b[0m\u001b[0mchain\u001b[0m\u001b[0;34m.\u001b[0m\u001b[0mfrom_iterable\u001b[0m\u001b[0;34m(\u001b[0m\u001b[0m_unique_labels\u001b[0m\u001b[0;34m(\u001b[0m\u001b[0my\u001b[0m\u001b[0;34m)\u001b[0m \u001b[0;32mfor\u001b[0m \u001b[0my\u001b[0m \u001b[0;32min\u001b[0m \u001b[0mys\u001b[0m\u001b[0;34m)\u001b[0m\u001b[0;34m)\u001b[0m\u001b[0;34m\u001b[0m\u001b[0m\n",
      "\u001b[0;31mValueError\u001b[0m: Unknown label type: (array([[ 0.,  0.,  0., ...,  0.,  0.,  0.],\n       [ 1.,  0.,  0., ...,  0.,  0.,  0.],\n       [ 1.,  0.,  0., ...,  0.,  0.,  0.],\n       ..., \n       [ 1.,  0.,  0., ...,  0.,  0.,  0.],\n       [ 1.,  0.,  0., ...,  0.,  1.,  0.],\n       [ 1.,  1.,  0., ...,  0.,  0.,  1.]]), array([[ 0.,  0.,  0., ...,  0.,  0.,  0.],\n       [ 1.,  0.,  0., ...,  0.,  0.,  0.],\n       [ 0.,  0.,  0., ...,  0.,  0.,  0.],\n       ..., \n       [ 1.,  0.,  0., ...,  0.,  0.,  0.],\n       [ 1.,  0.,  0., ...,  0.,  0.,  0.],\n       [ 1.,  0.,  0., ...,  0.,  0.,  0.]]))"
     ]
    }
   ],
   "source": [
    "Y_pred = pipeline.predict(X_test)"
   ]
  },
  {
   "cell_type": "code",
   "execution_count": 14,
   "metadata": {},
   "outputs": [
    {
     "name": "stdout",
     "output_type": "stream",
     "text": [
      "             precision    recall  f1-score   support\n",
      "\n",
      "        0.0       0.33      0.13      0.18      1536\n",
      "        1.0       0.77      0.92      0.84      4965\n",
      "        2.0       0.50      0.02      0.04        50\n",
      "\n",
      "avg / total       0.66      0.73      0.68      6551\n",
      "\n",
      "             precision    recall  f1-score   support\n",
      "\n",
      "        0.0       0.83      0.98      0.90      5409\n",
      "        1.0       0.43      0.07      0.12      1142\n",
      "\n",
      "avg / total       0.76      0.82      0.76      6551\n",
      "\n",
      "             precision    recall  f1-score   support\n",
      "\n",
      "        0.0       1.00      1.00      1.00      6525\n",
      "        1.0       0.00      0.00      0.00        26\n",
      "\n",
      "avg / total       0.99      1.00      0.99      6551\n",
      "\n",
      "             precision    recall  f1-score   support\n",
      "\n",
      "        0.0       0.59      0.82      0.69      3826\n",
      "        1.0       0.45      0.20      0.28      2725\n",
      "\n",
      "avg / total       0.53      0.56      0.52      6551\n",
      "\n",
      "             precision    recall  f1-score   support\n",
      "\n",
      "        0.0       0.92      1.00      0.96      6014\n",
      "        1.0       0.15      0.01      0.02       537\n",
      "\n",
      "avg / total       0.86      0.91      0.88      6551\n",
      "\n",
      "             precision    recall  f1-score   support\n",
      "\n",
      "        0.0       0.95      1.00      0.97      6216\n",
      "        1.0       0.14      0.01      0.03       335\n",
      "\n",
      "avg / total       0.91      0.95      0.92      6551\n",
      "\n",
      "             precision    recall  f1-score   support\n",
      "\n",
      "        0.0       0.98      1.00      0.99      6396\n",
      "        1.0       0.14      0.01      0.01       155\n",
      "\n",
      "avg / total       0.96      0.98      0.96      6551\n",
      "\n",
      "             precision    recall  f1-score   support\n",
      "\n",
      "        0.0       0.98      1.00      0.99      6429\n",
      "        1.0       0.00      0.00      0.00       122\n",
      "\n",
      "avg / total       0.96      0.98      0.97      6551\n",
      "\n",
      "             precision    recall  f1-score   support\n",
      "\n",
      "        0.0       0.97      1.00      0.98      6336\n",
      "        1.0       0.00      0.00      0.00       215\n",
      "\n",
      "avg / total       0.94      0.97      0.95      6551\n",
      "\n",
      "             precision    recall  f1-score   support\n",
      "\n",
      "        0.0       1.00      1.00      1.00      6551\n",
      "\n",
      "avg / total       1.00      1.00      1.00      6551\n",
      "\n",
      "             precision    recall  f1-score   support\n",
      "\n",
      "        0.0       0.93      1.00      0.96      6104\n",
      "        1.0       0.07      0.00      0.00       447\n",
      "\n",
      "avg / total       0.87      0.93      0.90      6551\n",
      "\n",
      "             precision    recall  f1-score   support\n",
      "\n",
      "        0.0       0.89      1.00      0.94      5813\n",
      "        1.0       0.15      0.01      0.01       738\n",
      "\n",
      "avg / total       0.80      0.88      0.83      6551\n",
      "\n",
      "             precision    recall  f1-score   support\n",
      "\n",
      "        0.0       0.91      0.99      0.95      5985\n",
      "        1.0       0.05      0.00      0.01       566\n",
      "\n",
      "avg / total       0.84      0.91      0.87      6551\n",
      "\n",
      "             precision    recall  f1-score   support\n",
      "\n",
      "        0.0       0.99      1.00      0.99      6457\n",
      "        1.0       0.00      0.00      0.00        94\n",
      "\n",
      "avg / total       0.97      0.99      0.98      6551\n",
      "\n",
      "             precision    recall  f1-score   support\n",
      "\n",
      "        0.0       0.98      1.00      0.99      6407\n",
      "        1.0       0.00      0.00      0.00       144\n",
      "\n",
      "avg / total       0.96      0.98      0.97      6551\n",
      "\n",
      "             precision    recall  f1-score   support\n",
      "\n",
      "        0.0       0.99      1.00      0.99      6469\n",
      "        1.0       0.00      0.00      0.00        82\n",
      "\n",
      "avg / total       0.98      0.99      0.98      6551\n",
      "\n",
      "             precision    recall  f1-score   support\n",
      "\n",
      "        0.0       0.97      1.00      0.98      6332\n",
      "        1.0       0.00      0.00      0.00       219\n",
      "\n",
      "avg / total       0.93      0.97      0.95      6551\n",
      "\n",
      "             precision    recall  f1-score   support\n",
      "\n",
      "        0.0       0.95      1.00      0.97      6242\n",
      "        1.0       0.16      0.01      0.02       309\n",
      "\n",
      "avg / total       0.92      0.95      0.93      6551\n",
      "\n",
      "             precision    recall  f1-score   support\n",
      "\n",
      "        0.0       0.87      0.99      0.93      5724\n",
      "        1.0       0.14      0.01      0.02       827\n",
      "\n",
      "avg / total       0.78      0.87      0.81      6551\n",
      "\n",
      "             precision    recall  f1-score   support\n",
      "\n",
      "        0.0       0.94      1.00      0.97      6141\n",
      "        1.0       0.04      0.00      0.00       410\n",
      "\n",
      "avg / total       0.88      0.93      0.91      6551\n",
      "\n",
      "             precision    recall  f1-score   support\n",
      "\n",
      "        0.0       0.95      1.00      0.97      6234\n",
      "        1.0       0.04      0.00      0.01       317\n",
      "\n",
      "avg / total       0.91      0.95      0.93      6551\n",
      "\n",
      "             precision    recall  f1-score   support\n",
      "\n",
      "        0.0       0.95      1.00      0.97      6209\n",
      "        1.0       0.05      0.00      0.01       342\n",
      "\n",
      "avg / total       0.90      0.95      0.92      6551\n",
      "\n",
      "             precision    recall  f1-score   support\n",
      "\n",
      "        0.0       0.98      1.00      0.99      6420\n",
      "        1.0       0.00      0.00      0.00       131\n",
      "\n",
      "avg / total       0.96      0.98      0.97      6551\n",
      "\n",
      "             precision    recall  f1-score   support\n",
      "\n",
      "        0.0       0.99      1.00      1.00      6503\n",
      "        1.0       0.00      0.00      0.00        48\n",
      "\n",
      "avg / total       0.99      0.99      0.99      6551\n",
      "\n",
      "             precision    recall  f1-score   support\n",
      "\n",
      "        0.0       0.99      1.00      0.99      6482\n",
      "        1.0       0.00      0.00      0.00        69\n",
      "\n",
      "avg / total       0.98      0.99      0.98      6551\n",
      "\n",
      "             precision    recall  f1-score   support\n",
      "\n",
      "        0.0       1.00      1.00      1.00      6526\n",
      "        1.0       0.00      0.00      0.00        25\n",
      "\n",
      "avg / total       0.99      1.00      0.99      6551\n",
      "\n",
      "             precision    recall  f1-score   support\n",
      "\n",
      "        0.0       0.99      1.00      0.99      6477\n",
      "        1.0       0.00      0.00      0.00        74\n",
      "\n",
      "avg / total       0.98      0.99      0.98      6551\n",
      "\n",
      "             precision    recall  f1-score   support\n",
      "\n",
      "        0.0       0.96      1.00      0.98      6270\n",
      "        1.0       0.00      0.00      0.00       281\n",
      "\n",
      "avg / total       0.92      0.96      0.94      6551\n",
      "\n",
      "             precision    recall  f1-score   support\n",
      "\n",
      "        0.0       0.75      0.95      0.84      4754\n",
      "        1.0       0.56      0.16      0.25      1797\n",
      "\n",
      "avg / total       0.70      0.74      0.68      6551\n",
      "\n",
      "             precision    recall  f1-score   support\n",
      "\n",
      "        0.0       0.92      1.00      0.96      6015\n",
      "        1.0       0.10      0.00      0.00       536\n",
      "\n",
      "avg / total       0.85      0.92      0.88      6551\n",
      "\n",
      "             precision    recall  f1-score   support\n",
      "\n",
      "        0.0       0.91      0.99      0.95      5951\n",
      "        1.0       0.35      0.04      0.07       600\n",
      "\n",
      "avg / total       0.86      0.91      0.87      6551\n",
      "\n",
      "             precision    recall  f1-score   support\n",
      "\n",
      "        0.0       0.99      1.00      0.99      6473\n",
      "        1.0       0.00      0.00      0.00        78\n",
      "\n",
      "avg / total       0.98      0.99      0.98      6551\n",
      "\n",
      "             precision    recall  f1-score   support\n",
      "\n",
      "        0.0       0.92      0.99      0.95      5949\n",
      "        1.0       0.62      0.14      0.23       602\n",
      "\n",
      "avg / total       0.89      0.91      0.89      6551\n",
      "\n",
      "             precision    recall  f1-score   support\n",
      "\n",
      "        0.0       0.98      1.00      0.99      6422\n",
      "        1.0       0.00      0.00      0.00       129\n",
      "\n",
      "avg / total       0.96      0.98      0.97      6551\n",
      "\n",
      "             precision    recall  f1-score   support\n",
      "\n",
      "        0.0       0.95      1.00      0.97      6215\n",
      "        1.0       0.00      0.00      0.00       336\n",
      "\n",
      "avg / total       0.90      0.95      0.92      6551\n",
      "\n",
      "             precision    recall  f1-score   support\n",
      "\n",
      "        0.0       0.81      0.98      0.89      5301\n",
      "        1.0       0.35      0.05      0.09      1250\n",
      "\n",
      "avg / total       0.73      0.80      0.74      6551\n",
      "\n"
     ]
    },
    {
     "name": "stderr",
     "output_type": "stream",
     "text": [
      "/opt/conda/lib/python3.6/site-packages/sklearn/metrics/classification.py:1135: UndefinedMetricWarning: Precision and F-score are ill-defined and being set to 0.0 in labels with no predicted samples.\n",
      "  'precision', 'predicted', average, warn_for)\n"
     ]
    }
   ],
   "source": [
    "for i in range(36):\n",
    "    print(classification_report(Y_test[:,i], Y_pred[:,i]))"
   ]
  },
  {
   "cell_type": "code",
   "execution_count": 17,
   "metadata": {},
   "outputs": [
    {
     "ename": "NameError",
     "evalue": "name 'precision' is not defined",
     "output_type": "error",
     "traceback": [
      "\u001b[0;31m---------------------------------------------------------------------------\u001b[0m",
      "\u001b[0;31mNameError\u001b[0m                                 Traceback (most recent call last)",
      "\u001b[0;32m<ipython-input-17-091fe44669a7>\u001b[0m in \u001b[0;36m<module>\u001b[0;34m()\u001b[0m\n\u001b[0;32m----> 1\u001b[0;31m \u001b[0mprint\u001b[0m\u001b[0;34m(\u001b[0m\u001b[0mclassification_report\u001b[0m\u001b[0;34m(\u001b[0m\u001b[0mY_test\u001b[0m\u001b[0;34m[\u001b[0m\u001b[0;34m:\u001b[0m\u001b[0;34m,\u001b[0m\u001b[0;36m0\u001b[0m\u001b[0;34m]\u001b[0m\u001b[0;34m,\u001b[0m \u001b[0mY_pred\u001b[0m\u001b[0;34m[\u001b[0m\u001b[0;34m:\u001b[0m\u001b[0;34m,\u001b[0m\u001b[0;36m0\u001b[0m\u001b[0;34m]\u001b[0m\u001b[0;34m)\u001b[0m\u001b[0;34m[\u001b[0m\u001b[0mprecision\u001b[0m\u001b[0;34m]\u001b[0m\u001b[0;34m)\u001b[0m\u001b[0;34m\u001b[0m\u001b[0m\n\u001b[0m",
      "\u001b[0;31mNameError\u001b[0m: name 'precision' is not defined"
     ]
    }
   ],
   "source": [
    "print(classification_report(Y_test[:,0], Y_pred[:,0])[precision])"
   ]
  },
  {
   "cell_type": "code",
   "execution_count": 10,
   "metadata": {},
   "outputs": [
    {
     "name": "stdout",
     "output_type": "stream",
     "text": [
      "[ 0.  1.  2.]\n"
     ]
    }
   ],
   "source": [
    "print(np.unique(Y_pred))"
   ]
  },
  {
   "cell_type": "code",
   "execution_count": null,
   "metadata": {},
   "outputs": [],
   "source": [
    "print(classification_report)"
   ]
  },
  {
   "cell_type": "markdown",
   "metadata": {},
   "source": [
    "### 6. Improve your model\n",
    "Use grid search to find better parameters. "
   ]
  },
  {
   "cell_type": "code",
   "execution_count": null,
   "metadata": {},
   "outputs": [],
   "source": [
    "from sklearn.model_selection import GridSearchCV\n",
    "\n",
    "parameters = {\n",
    "        'vect__ngram_range': ((1, 1), (1, 2)),\n",
    "        'clf__estimator__n_estimators': [50, 200],\n",
    "        'clf__estimator__min_samples_split': [2, 4]\n",
    "    }\n",
    "\n",
    "cv = GridSearchCV(pipeline, param_grid=parameters)\n",
    "cv.fit(X_train, Y_train)"
   ]
  },
  {
   "cell_type": "markdown",
   "metadata": {},
   "source": [
    "### 7. Test your model\n",
    "Show the accuracy, precision, and recall of the tuned model.  \n",
    "\n",
    "Since this project focuses on code quality, process, and  pipelines, there is no minimum performance metric needed to pass. However, make sure to fine tune your models for accuracy, precision and recall to make your project stand out - especially for your portfolio!"
   ]
  },
  {
   "cell_type": "code",
   "execution_count": null,
   "metadata": {},
   "outputs": [],
   "source": []
  },
  {
   "cell_type": "markdown",
   "metadata": {},
   "source": [
    "### 8. Try improving your model further. Here are a few ideas:\n",
    "* try other machine learning algorithms\n",
    "* add other features besides the TF-IDF"
   ]
  },
  {
   "cell_type": "code",
   "execution_count": null,
   "metadata": {},
   "outputs": [],
   "source": []
  },
  {
   "cell_type": "markdown",
   "metadata": {},
   "source": [
    "### 9. Export your model as a pickle file"
   ]
  },
  {
   "cell_type": "code",
   "execution_count": null,
   "metadata": {},
   "outputs": [],
   "source": []
  },
  {
   "cell_type": "markdown",
   "metadata": {},
   "source": [
    "### 10. Use this notebook to complete `train.py`\n",
    "Use the template file attached in the Resources folder to write a script that runs the steps above to create a database and export a model based on a new dataset specified by the user."
   ]
  },
  {
   "cell_type": "code",
   "execution_count": null,
   "metadata": {},
   "outputs": [],
   "source": []
  }
 ],
 "metadata": {
  "kernelspec": {
   "display_name": "Python 3",
   "language": "python",
   "name": "python3"
  },
  "language_info": {
   "codemirror_mode": {
    "name": "ipython",
    "version": 3
   },
   "file_extension": ".py",
   "mimetype": "text/x-python",
   "name": "python",
   "nbconvert_exporter": "python",
   "pygments_lexer": "ipython3",
   "version": "3.6.3"
  }
 },
 "nbformat": 4,
 "nbformat_minor": 2
}
